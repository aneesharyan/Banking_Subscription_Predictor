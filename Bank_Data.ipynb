{
 "cells": [
  {
   "cell_type": "code",
   "execution_count": 1,
   "id": "bc440c69-b44b-4b39-b388-8b8e0aa6efc6",
   "metadata": {},
   "outputs": [],
   "source": [
    "#importing necessary libriaries\n",
    "import pandas as pd\n",
    "import numpy as np \n",
    "import sklearn\n",
    "from sklearn.tree import DecisionTreeClassifier\n",
    "from sklearn.model_selection import train_test_split # To split the data\n",
    "from sklearn.metrics import classification_report\n",
    "from sklearn.metrics import roc_auc_score\n",
    "from sklearn.tree import DecisionTreeRegressor\n",
    "from sklearn.metrics import mean_squared_error\n",
    "from sklearn.metrics import r2_score\n",
    "from sklearn.ensemble import RandomForestClassifier, BaggingClassifier\n",
    "np.random.seed(53)"
   ]
  },
  {
   "cell_type": "code",
   "execution_count": 2,
   "id": "7d848e7f-570c-4283-b3f8-ec550349de8f",
   "metadata": {},
   "outputs": [],
   "source": [
    "#importing data set\n",
    "bank_data= pd.read_csv(\"bank-additional-full.csv\", sep=\";\")"
   ]
  },
  {
   "cell_type": "code",
   "execution_count": 3,
   "id": "02ef070e-fce9-4053-836b-9117491f7f3a",
   "metadata": {},
   "outputs": [],
   "source": [
    "# making some changes in data set\n",
    "change= {\"education\":{\"illiterate\":0, \"unknown\":1, \"basic.4y\":2, \"basic.6y\":3, \"basic.9y\":4, \"high.school\":5,\n",
    "                       \"university.degree\":6,\"professional.course\":7}  } \n",
    "bank_data = bank_data.replace(change)"
   ]
  },
  {
   "cell_type": "code",
   "execution_count": 4,
   "id": "9d129719-39e7-46d1-9a9e-de5a7aa53a32",
   "metadata": {},
   "outputs": [],
   "source": [
    "out=[\"no\", \"yes\"]\n",
    "c = bank_data.drop([\"month\",\"day_of_week\",\"y\",\"contact\"], axis=1)\n",
    "model_data = pd.get_dummies(c, columns=[\"job\",\"marital\",\"default\",\"housing\",\"loan\",\"poutcome\"],\n",
    "                           drop_first= True)\n",
    "\n",
    "out_put = bank_data[\"y\"]"
   ]
  },
  {
   "cell_type": "code",
   "execution_count": 5,
   "id": "a9e97c92-f4ea-411e-b6c5-80814dd43ea2",
   "metadata": {},
   "outputs": [],
   "source": [
    "features= list(model_data.columns)"
   ]
  },
  {
   "cell_type": "code",
   "execution_count": 6,
   "id": "34d6c7bb-5367-48bb-bc7e-8acad9130a6f",
   "metadata": {},
   "outputs": [],
   "source": [
    "(x_train, x_test, y_train, y_test) = train_test_split(model_data, out_put, train_size=0.75)"
   ]
  },
  {
   "cell_type": "code",
   "execution_count": 7,
   "id": "e21f5833-d10d-4614-a8fe-036c07218661",
   "metadata": {},
   "outputs": [],
   "source": [
    "model = DecisionTreeClassifier(random_state=44, max_depth=5).fit(x_train,y_train)"
   ]
  },
  {
   "cell_type": "code",
   "execution_count": 8,
   "id": "c6bc47ad-f9b2-4b9c-8da9-ea0665fd7d32",
   "metadata": {},
   "outputs": [
    {
     "data": {
      "text/plain": [
       "0.914441099349325"
      ]
     },
     "execution_count": 8,
     "metadata": {},
     "output_type": "execute_result"
    }
   ],
   "source": [
    "score = model.score(x_test,y_test)\n",
    "prediction = model.predict(x_test) \n",
    "score"
   ]
  },
  {
   "cell_type": "code",
   "execution_count": 9,
   "id": "9f0b10b3-f037-434e-a09b-613acbd30066",
   "metadata": {},
   "outputs": [],
   "source": [
    "from matplotlib import pyplot as plt \n",
    "from sklearn import tree\n",
    "import graphviz"
   ]
  },
  {
   "cell_type": "code",
   "execution_count": 10,
   "id": "7d563958-2de0-4d14-8594-7e6289dd31aa",
   "metadata": {},
   "outputs": [],
   "source": [
    "dot_data = tree.export_graphviz(model, out_file=None, \n",
    "                                feature_names=features,  \n",
    "                                class_names=out,\n",
    "                                filled=True)\n",
    "\n",
    "# Draw graph\n",
    "graph = graphviz.Source(dot_data, format=\"jpg\") "
   ]
  },
  {
   "cell_type": "code",
   "execution_count": 11,
   "id": "4b990ec2-96e5-42b0-b8c2-3c0002d14869",
   "metadata": {},
   "outputs": [
    {
     "name": "stdout",
     "output_type": "stream",
     "text": [
      "              precision    recall  f1-score   support\n",
      "\n",
      "          no       0.94      0.97      0.95      9161\n",
      "         yes       0.65      0.48      0.55      1136\n",
      "\n",
      "    accuracy                           0.91     10297\n",
      "   macro avg       0.79      0.72      0.75     10297\n",
      "weighted avg       0.91      0.91      0.91     10297\n",
      "\n",
      "ROC score:  0.7231720197838049\n"
     ]
    }
   ],
   "source": [
    "# Using Random forest in dataset\n",
    "from sklearn.ensemble import RandomForestClassifier, BaggingClassifier\n",
    "rfc = RandomForestClassifier(n_estimators=100)\n",
    "rfc.fit(x_train, y_train)\n",
    "y_pred_r= rfc.predict(x_test)\n",
    "print(classification_report(y_test,y_pred_r))\n",
    "y_pred1= (y_pred_r==\"yes\")\n",
    "y_test1=(y_test==\"yes\")\n",
    "print(\"ROC score: \",roc_auc_score(y_test1, y_pred1, average=\"weighted\"))"
   ]
  },
  {
   "cell_type": "code",
   "execution_count": 12,
   "id": "cdec1f49",
   "metadata": {},
   "outputs": [
    {
     "name": "stdout",
     "output_type": "stream",
     "text": [
      "Space taken to train:  226.25390625 bytes\n",
      "Time taken to train:  2.802419662475586\n"
     ]
    }
   ],
   "source": [
    "from memory_profiler import memory_usage\n",
    "import time\n",
    "\n",
    "def space():\n",
    "    rfc = RandomForestClassifier(n_estimators=100)\n",
    "    rfc.fit(x_train, y_train)\n",
    "print(\"Space taken to train: \",memory_usage(space)[0], \"bytes\")\n",
    "\n",
    "start = time.time()\n",
    "rfc = RandomForestClassifier(n_estimators=100)\n",
    "rfc.fit(x_train, y_train)   # Fit the model\n",
    "end =  time.time() - start\n",
    "\n",
    "\n",
    "print(\"Time taken to train: \",end)"
   ]
  },
  {
   "cell_type": "code",
   "execution_count": 13,
   "id": "29dcd299-ae20-4e80-87f0-79135350ccbc",
   "metadata": {},
   "outputs": [
    {
     "name": "stdout",
     "output_type": "stream",
     "text": [
      "Bagging Accuracy: 0.9123045547246771\n"
     ]
    }
   ],
   "source": [
    "tree = DecisionTreeClassifier()\n",
    "bagging = BaggingClassifier(tree, n_estimators=500, max_samples=0.7, max_features=0.7, n_jobs=-1)\n",
    "bagging.fit(x_train, y_train)\n",
    "print(\"Bagging Accuracy:\", bagging.score(x_test, y_test))"
   ]
  },
  {
   "cell_type": "code",
   "execution_count": 14,
   "id": "8a917b41",
   "metadata": {},
   "outputs": [
    {
     "name": "stdout",
     "output_type": "stream",
     "text": [
      "              precision    recall  f1-score   support\n",
      "\n",
      "          no       0.93      0.98      0.95      9161\n",
      "         yes       0.69      0.38      0.49      1136\n",
      "\n",
      "    accuracy                           0.91     10297\n",
      "   macro avg       0.81      0.68      0.72     10297\n",
      "weighted avg       0.90      0.91      0.90     10297\n",
      "\n",
      "ROC score:  0.6777373387799782\n"
     ]
    }
   ],
   "source": [
    "# Report\n",
    "y_pred_b= bagging.predict(x_test)\n",
    "y_pred_b\n",
    "print(classification_report(y_test,y_pred_b))\n",
    "y_pred2= (y_pred_b==\"yes\")\n",
    "y_test2=(y_test==\"yes\")\n",
    "print(\"ROC score: \",roc_auc_score(y_test2, y_pred2, average=\"weighted\"))"
   ]
  },
  {
   "cell_type": "code",
   "execution_count": 15,
   "id": "c6d32faa",
   "metadata": {},
   "outputs": [
    {
     "name": "stdout",
     "output_type": "stream",
     "text": [
      "Space taken to train:  352.55078125 bytes\n",
      "Time taken to train:  11.244510889053345\n"
     ]
    }
   ],
   "source": [
    "def space():\n",
    "    tree = DecisionTreeClassifier()\n",
    "    bagging = BaggingClassifier(tree, n_estimators=500, max_samples=0.7, max_features=0.7, n_jobs=-1)\n",
    "    bagging.fit(x_train, y_train)\n",
    "print(\"Space taken to train: \",memory_usage(space)[0], \"bytes\")\n",
    "\n",
    "start = time.time()\n",
    "tree = DecisionTreeClassifier()\n",
    "bagging = BaggingClassifier(tree, n_estimators=500, max_samples=0.7, max_features=0.7, n_jobs=-1)\n",
    "bagging.fit(x_train, y_train)  # Fit the model\n",
    "end =  time.time() - start\n",
    "\n",
    "print(\"Time taken to train: \",end)"
   ]
  },
  {
   "cell_type": "code",
   "execution_count": 16,
   "id": "edf52aed-ea25-467e-a8f7-6af509c30989",
   "metadata": {},
   "outputs": [],
   "source": [
    "from sklearn.ensemble import AdaBoostClassifier\n",
    "from sklearn.metrics import accuracy_score\n",
    "# Create an AdaBoost classifier with decision stumps as base estimator\n",
    "clf = AdaBoostClassifier(base_estimator=DecisionTreeClassifier(max_depth=1), n_estimators=50, random_state=42)\n",
    "\n",
    "# Fit the classifier to the training data\n",
    "clf.fit(x_train, y_train)\n",
    "\n",
    "# Make predictions on the testing data\n",
    "y_pred_adb = clf.predict(x_test)"
   ]
  },
  {
   "cell_type": "code",
   "execution_count": 17,
   "id": "b9cb765e",
   "metadata": {},
   "outputs": [
    {
     "name": "stdout",
     "output_type": "stream",
     "text": [
      "Accuracy: 0.9094882004467321\n",
      "              precision    recall  f1-score   support\n",
      "\n",
      "          no       0.93      0.98      0.95      9161\n",
      "         yes       0.66      0.38      0.48      1136\n",
      "\n",
      "    accuracy                           0.91     10297\n",
      "   macro avg       0.79      0.68      0.71     10297\n",
      "weighted avg       0.90      0.91      0.90     10297\n",
      "\n",
      "ROC score:  0.6753834188407379\n"
     ]
    }
   ],
   "source": [
    "# Calculate the accuracy of the classifier\n",
    "accuracy = accuracy_score(y_test, y_pred_adb)\n",
    "print('Accuracy:', accuracy)\n",
    "print(classification_report(y_test,y_pred_adb))\n",
    "y_pred_adb= (y_pred_adb==\"yes\")\n",
    "y_test3 =(y_test==\"yes\")\n",
    "print(\"ROC score: \",roc_auc_score(y_test3, y_pred_adb, average=\"weighted\"))"
   ]
  },
  {
   "cell_type": "code",
   "execution_count": 18,
   "id": "724bd2e2",
   "metadata": {},
   "outputs": [
    {
     "name": "stdout",
     "output_type": "stream",
     "text": [
      "Space taken to train:  478.52734375 bytes\n",
      "Time taken to train:  2.7455310821533203\n"
     ]
    }
   ],
   "source": [
    "def space():\n",
    "    clf = AdaBoostClassifier(base_estimator=DecisionTreeClassifier(max_depth=1), n_estimators=50, random_state=42)\n",
    "    clf.fit(x_train, y_train)\n",
    "print(\"Space taken to train: \",memory_usage(space)[0], \"bytes\")\n",
    "\n",
    "start = time.time()\n",
    "clf = AdaBoostClassifier(base_estimator=DecisionTreeClassifier(max_depth=1), n_estimators=50, random_state=42)\n",
    "\n",
    "# Fit the classifier to the training data\n",
    "clf.fit(x_train, y_train)# Fit the model\n",
    "end =  time.time() - start\n",
    "\n",
    "\n",
    "print(\"Time taken to train: \",end)"
   ]
  },
  {
   "cell_type": "code",
   "execution_count": null,
   "id": "b67c84b1",
   "metadata": {},
   "outputs": [],
   "source": []
  }
 ],
 "metadata": {
  "kernelspec": {
   "display_name": "Python 3 (ipykernel)",
   "language": "python",
   "name": "python3"
  },
  "language_info": {
   "codemirror_mode": {
    "name": "ipython",
    "version": 3
   },
   "file_extension": ".py",
   "mimetype": "text/x-python",
   "name": "python",
   "nbconvert_exporter": "python",
   "pygments_lexer": "ipython3",
   "version": "3.9.13"
  }
 },
 "nbformat": 4,
 "nbformat_minor": 5
}
